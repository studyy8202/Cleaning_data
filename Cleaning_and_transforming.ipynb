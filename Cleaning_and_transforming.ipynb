{
  "nbformat": 4,
  "nbformat_minor": 0,
  "metadata": {
    "colab": {
      "provenance": [],
      "toc_visible": true,
      "authorship_tag": "ABX9TyOga5Pjw4Sk+kKJG3SqN6Pw",
      "include_colab_link": true
    },
    "kernelspec": {
      "name": "python3",
      "display_name": "Python 3"
    },
    "language_info": {
      "name": "python"
    }
  },
  "cells": [
    {
      "cell_type": "markdown",
      "metadata": {
        "id": "view-in-github",
        "colab_type": "text"
      },
      "source": [
        "<a href=\"https://colab.research.google.com/github/studyy8202/Cleaning_data/blob/main/Cleaning_and_transforming.ipynb\" target=\"_parent\"><img src=\"https://colab.research.google.com/assets/colab-badge.svg\" alt=\"Open In Colab\"/></a>"
      ]
    },
    {
      "cell_type": "markdown",
      "source": [
        "# New section"
      ],
      "metadata": {
        "id": "_aMJyyY7i0Qx"
      }
    },
    {
      "cell_type": "code",
      "execution_count": 1,
      "metadata": {
        "id": "Bn7ubTTPyxF7"
      },
      "outputs": [],
      "source": [
        "import pandas as pd\n",
        "import numpy as np\n",
        "import re"
      ]
    },
    {
      "cell_type": "code",
      "source": [
        "df = pd.read_csv('/content/Uncleaned_DS_jobs.csv')"
      ],
      "metadata": {
        "id": "23pkOuCSzF2L"
      },
      "execution_count": 2,
      "outputs": []
    },
    {
      "cell_type": "code",
      "source": [
        "df.shape"
      ],
      "metadata": {
        "colab": {
          "base_uri": "https://localhost:8080/"
        },
        "id": "SJRtsTgqT4N_",
        "outputId": "2036e247-c7f2-47f4-f003-f56e5fdeb4de"
      },
      "execution_count": 5,
      "outputs": [
        {
          "output_type": "execute_result",
          "data": {
            "text/plain": [
              "(672, 15)"
            ]
          },
          "metadata": {},
          "execution_count": 5
        }
      ]
    },
    {
      "cell_type": "code",
      "source": [
        "# Check for missing values\n",
        "missing_values = df.isnull().sum()\n",
        "print(missing_values)"
      ],
      "metadata": {
        "colab": {
          "base_uri": "https://localhost:8080/"
        },
        "id": "FG4bK6_1zLxB",
        "outputId": "1dc9b821-cb3a-4e5b-a4cf-060e30663340"
      },
      "execution_count": 3,
      "outputs": [
        {
          "output_type": "stream",
          "name": "stdout",
          "text": [
            "index                0\n",
            "Job Title            0\n",
            "Salary Estimate      0\n",
            "Job Description      0\n",
            "Rating               0\n",
            "Company Name         0\n",
            "Location             0\n",
            "Headquarters         0\n",
            "Size                 0\n",
            "Founded              0\n",
            "Type of ownership    0\n",
            "Industry             0\n",
            "Sector               0\n",
            "Revenue              0\n",
            "Competitors          0\n",
            "dtype: int64\n"
          ]
        }
      ]
    },
    {
      "cell_type": "code",
      "source": [
        "df.drop_duplicates(inplace=True)"
      ],
      "metadata": {
        "id": "TiofoUShzUsV"
      },
      "execution_count": 4,
      "outputs": []
    },
    {
      "cell_type": "code",
      "source": [
        "df.info()"
      ],
      "metadata": {
        "colab": {
          "base_uri": "https://localhost:8080/"
        },
        "id": "A7KFEQXBzX6v",
        "outputId": "3fc75aeb-6c4e-42e3-ca96-43f2122825b8"
      },
      "execution_count": 5,
      "outputs": [
        {
          "output_type": "stream",
          "name": "stdout",
          "text": [
            "<class 'pandas.core.frame.DataFrame'>\n",
            "RangeIndex: 672 entries, 0 to 671\n",
            "Data columns (total 15 columns):\n",
            " #   Column             Non-Null Count  Dtype  \n",
            "---  ------             --------------  -----  \n",
            " 0   index              672 non-null    int64  \n",
            " 1   Job Title          672 non-null    object \n",
            " 2   Salary Estimate    672 non-null    object \n",
            " 3   Job Description    672 non-null    object \n",
            " 4   Rating             672 non-null    float64\n",
            " 5   Company Name       672 non-null    object \n",
            " 6   Location           672 non-null    object \n",
            " 7   Headquarters       672 non-null    object \n",
            " 8   Size               672 non-null    object \n",
            " 9   Founded            672 non-null    int64  \n",
            " 10  Type of ownership  672 non-null    object \n",
            " 11  Industry           672 non-null    object \n",
            " 12  Sector             672 non-null    object \n",
            " 13  Revenue            672 non-null    object \n",
            " 14  Competitors        672 non-null    object \n",
            "dtypes: float64(1), int64(2), object(12)\n",
            "memory usage: 78.9+ KB\n"
          ]
        }
      ]
    },
    {
      "cell_type": "code",
      "source": [
        "df.describe()"
      ],
      "metadata": {
        "colab": {
          "base_uri": "https://localhost:8080/",
          "height": 297
        },
        "id": "wme_fibdpeae",
        "outputId": "b21e7a74-b24d-43be-ab41-fb43d7d28f2d"
      },
      "execution_count": 30,
      "outputs": [
        {
          "output_type": "execute_result",
          "data": {
            "text/plain": [
              "           Rating      Founded\n",
              "count  672.000000   672.000000\n",
              "mean     3.593006  1635.529762\n",
              "std      1.176684   756.746640\n",
              "min      0.000000    -1.000000\n",
              "25%      3.300000  1917.750000\n",
              "50%      3.800000  1995.000000\n",
              "75%      4.300000  2009.000000\n",
              "max      5.000000  2019.000000"
            ],
            "text/html": [
              "\n",
              "  <div id=\"df-ab9b650e-fe5d-438e-9881-c45768c65989\" class=\"colab-df-container\">\n",
              "    <div>\n",
              "<style scoped>\n",
              "    .dataframe tbody tr th:only-of-type {\n",
              "        vertical-align: middle;\n",
              "    }\n",
              "\n",
              "    .dataframe tbody tr th {\n",
              "        vertical-align: top;\n",
              "    }\n",
              "\n",
              "    .dataframe thead th {\n",
              "        text-align: right;\n",
              "    }\n",
              "</style>\n",
              "<table border=\"1\" class=\"dataframe\">\n",
              "  <thead>\n",
              "    <tr style=\"text-align: right;\">\n",
              "      <th></th>\n",
              "      <th>Rating</th>\n",
              "      <th>Founded</th>\n",
              "    </tr>\n",
              "  </thead>\n",
              "  <tbody>\n",
              "    <tr>\n",
              "      <th>count</th>\n",
              "      <td>672.000000</td>\n",
              "      <td>672.000000</td>\n",
              "    </tr>\n",
              "    <tr>\n",
              "      <th>mean</th>\n",
              "      <td>3.593006</td>\n",
              "      <td>1635.529762</td>\n",
              "    </tr>\n",
              "    <tr>\n",
              "      <th>std</th>\n",
              "      <td>1.176684</td>\n",
              "      <td>756.746640</td>\n",
              "    </tr>\n",
              "    <tr>\n",
              "      <th>min</th>\n",
              "      <td>0.000000</td>\n",
              "      <td>-1.000000</td>\n",
              "    </tr>\n",
              "    <tr>\n",
              "      <th>25%</th>\n",
              "      <td>3.300000</td>\n",
              "      <td>1917.750000</td>\n",
              "    </tr>\n",
              "    <tr>\n",
              "      <th>50%</th>\n",
              "      <td>3.800000</td>\n",
              "      <td>1995.000000</td>\n",
              "    </tr>\n",
              "    <tr>\n",
              "      <th>75%</th>\n",
              "      <td>4.300000</td>\n",
              "      <td>2009.000000</td>\n",
              "    </tr>\n",
              "    <tr>\n",
              "      <th>max</th>\n",
              "      <td>5.000000</td>\n",
              "      <td>2019.000000</td>\n",
              "    </tr>\n",
              "  </tbody>\n",
              "</table>\n",
              "</div>\n",
              "    <div class=\"colab-df-buttons\">\n",
              "\n",
              "  <div class=\"colab-df-container\">\n",
              "    <button class=\"colab-df-convert\" onclick=\"convertToInteractive('df-ab9b650e-fe5d-438e-9881-c45768c65989')\"\n",
              "            title=\"Convert this dataframe to an interactive table.\"\n",
              "            style=\"display:none;\">\n",
              "\n",
              "  <svg xmlns=\"http://www.w3.org/2000/svg\" height=\"24px\" viewBox=\"0 -960 960 960\">\n",
              "    <path d=\"M120-120v-720h720v720H120Zm60-500h600v-160H180v160Zm220 220h160v-160H400v160Zm0 220h160v-160H400v160ZM180-400h160v-160H180v160Zm440 0h160v-160H620v160ZM180-180h160v-160H180v160Zm440 0h160v-160H620v160Z\"/>\n",
              "  </svg>\n",
              "    </button>\n",
              "\n",
              "  <style>\n",
              "    .colab-df-container {\n",
              "      display:flex;\n",
              "      gap: 12px;\n",
              "    }\n",
              "\n",
              "    .colab-df-convert {\n",
              "      background-color: #E8F0FE;\n",
              "      border: none;\n",
              "      border-radius: 50%;\n",
              "      cursor: pointer;\n",
              "      display: none;\n",
              "      fill: #1967D2;\n",
              "      height: 32px;\n",
              "      padding: 0 0 0 0;\n",
              "      width: 32px;\n",
              "    }\n",
              "\n",
              "    .colab-df-convert:hover {\n",
              "      background-color: #E2EBFA;\n",
              "      box-shadow: 0px 1px 2px rgba(60, 64, 67, 0.3), 0px 1px 3px 1px rgba(60, 64, 67, 0.15);\n",
              "      fill: #174EA6;\n",
              "    }\n",
              "\n",
              "    .colab-df-buttons div {\n",
              "      margin-bottom: 4px;\n",
              "    }\n",
              "\n",
              "    [theme=dark] .colab-df-convert {\n",
              "      background-color: #3B4455;\n",
              "      fill: #D2E3FC;\n",
              "    }\n",
              "\n",
              "    [theme=dark] .colab-df-convert:hover {\n",
              "      background-color: #434B5C;\n",
              "      box-shadow: 0px 1px 3px 1px rgba(0, 0, 0, 0.15);\n",
              "      filter: drop-shadow(0px 1px 2px rgba(0, 0, 0, 0.3));\n",
              "      fill: #FFFFFF;\n",
              "    }\n",
              "  </style>\n",
              "\n",
              "    <script>\n",
              "      const buttonEl =\n",
              "        document.querySelector('#df-ab9b650e-fe5d-438e-9881-c45768c65989 button.colab-df-convert');\n",
              "      buttonEl.style.display =\n",
              "        google.colab.kernel.accessAllowed ? 'block' : 'none';\n",
              "\n",
              "      async function convertToInteractive(key) {\n",
              "        const element = document.querySelector('#df-ab9b650e-fe5d-438e-9881-c45768c65989');\n",
              "        const dataTable =\n",
              "          await google.colab.kernel.invokeFunction('convertToInteractive',\n",
              "                                                    [key], {});\n",
              "        if (!dataTable) return;\n",
              "\n",
              "        const docLinkHtml = 'Like what you see? Visit the ' +\n",
              "          '<a target=\"_blank\" href=https://colab.research.google.com/notebooks/data_table.ipynb>data table notebook</a>'\n",
              "          + ' to learn more about interactive tables.';\n",
              "        element.innerHTML = '';\n",
              "        dataTable['output_type'] = 'display_data';\n",
              "        await google.colab.output.renderOutput(dataTable, element);\n",
              "        const docLink = document.createElement('div');\n",
              "        docLink.innerHTML = docLinkHtml;\n",
              "        element.appendChild(docLink);\n",
              "      }\n",
              "    </script>\n",
              "  </div>\n",
              "\n",
              "\n",
              "<div id=\"df-659b13e8-fe31-499a-983c-b2b3bf5c9a28\">\n",
              "  <button class=\"colab-df-quickchart\" onclick=\"quickchart('df-659b13e8-fe31-499a-983c-b2b3bf5c9a28')\"\n",
              "            title=\"Suggest charts\"\n",
              "            style=\"display:none;\">\n",
              "\n",
              "<svg xmlns=\"http://www.w3.org/2000/svg\" height=\"24px\"viewBox=\"0 0 24 24\"\n",
              "     width=\"24px\">\n",
              "    <g>\n",
              "        <path d=\"M19 3H5c-1.1 0-2 .9-2 2v14c0 1.1.9 2 2 2h14c1.1 0 2-.9 2-2V5c0-1.1-.9-2-2-2zM9 17H7v-7h2v7zm4 0h-2V7h2v10zm4 0h-2v-4h2v4z\"/>\n",
              "    </g>\n",
              "</svg>\n",
              "  </button>\n",
              "\n",
              "<style>\n",
              "  .colab-df-quickchart {\n",
              "      --bg-color: #E8F0FE;\n",
              "      --fill-color: #1967D2;\n",
              "      --hover-bg-color: #E2EBFA;\n",
              "      --hover-fill-color: #174EA6;\n",
              "      --disabled-fill-color: #AAA;\n",
              "      --disabled-bg-color: #DDD;\n",
              "  }\n",
              "\n",
              "  [theme=dark] .colab-df-quickchart {\n",
              "      --bg-color: #3B4455;\n",
              "      --fill-color: #D2E3FC;\n",
              "      --hover-bg-color: #434B5C;\n",
              "      --hover-fill-color: #FFFFFF;\n",
              "      --disabled-bg-color: #3B4455;\n",
              "      --disabled-fill-color: #666;\n",
              "  }\n",
              "\n",
              "  .colab-df-quickchart {\n",
              "    background-color: var(--bg-color);\n",
              "    border: none;\n",
              "    border-radius: 50%;\n",
              "    cursor: pointer;\n",
              "    display: none;\n",
              "    fill: var(--fill-color);\n",
              "    height: 32px;\n",
              "    padding: 0;\n",
              "    width: 32px;\n",
              "  }\n",
              "\n",
              "  .colab-df-quickchart:hover {\n",
              "    background-color: var(--hover-bg-color);\n",
              "    box-shadow: 0 1px 2px rgba(60, 64, 67, 0.3), 0 1px 3px 1px rgba(60, 64, 67, 0.15);\n",
              "    fill: var(--button-hover-fill-color);\n",
              "  }\n",
              "\n",
              "  .colab-df-quickchart-complete:disabled,\n",
              "  .colab-df-quickchart-complete:disabled:hover {\n",
              "    background-color: var(--disabled-bg-color);\n",
              "    fill: var(--disabled-fill-color);\n",
              "    box-shadow: none;\n",
              "  }\n",
              "\n",
              "  .colab-df-spinner {\n",
              "    border: 2px solid var(--fill-color);\n",
              "    border-color: transparent;\n",
              "    border-bottom-color: var(--fill-color);\n",
              "    animation:\n",
              "      spin 1s steps(1) infinite;\n",
              "  }\n",
              "\n",
              "  @keyframes spin {\n",
              "    0% {\n",
              "      border-color: transparent;\n",
              "      border-bottom-color: var(--fill-color);\n",
              "      border-left-color: var(--fill-color);\n",
              "    }\n",
              "    20% {\n",
              "      border-color: transparent;\n",
              "      border-left-color: var(--fill-color);\n",
              "      border-top-color: var(--fill-color);\n",
              "    }\n",
              "    30% {\n",
              "      border-color: transparent;\n",
              "      border-left-color: var(--fill-color);\n",
              "      border-top-color: var(--fill-color);\n",
              "      border-right-color: var(--fill-color);\n",
              "    }\n",
              "    40% {\n",
              "      border-color: transparent;\n",
              "      border-right-color: var(--fill-color);\n",
              "      border-top-color: var(--fill-color);\n",
              "    }\n",
              "    60% {\n",
              "      border-color: transparent;\n",
              "      border-right-color: var(--fill-color);\n",
              "    }\n",
              "    80% {\n",
              "      border-color: transparent;\n",
              "      border-right-color: var(--fill-color);\n",
              "      border-bottom-color: var(--fill-color);\n",
              "    }\n",
              "    90% {\n",
              "      border-color: transparent;\n",
              "      border-bottom-color: var(--fill-color);\n",
              "    }\n",
              "  }\n",
              "</style>\n",
              "\n",
              "  <script>\n",
              "    async function quickchart(key) {\n",
              "      const quickchartButtonEl =\n",
              "        document.querySelector('#' + key + ' button');\n",
              "      quickchartButtonEl.disabled = true;  // To prevent multiple clicks.\n",
              "      quickchartButtonEl.classList.add('colab-df-spinner');\n",
              "      try {\n",
              "        const charts = await google.colab.kernel.invokeFunction(\n",
              "            'suggestCharts', [key], {});\n",
              "      } catch (error) {\n",
              "        console.error('Error during call to suggestCharts:', error);\n",
              "      }\n",
              "      quickchartButtonEl.classList.remove('colab-df-spinner');\n",
              "      quickchartButtonEl.classList.add('colab-df-quickchart-complete');\n",
              "    }\n",
              "    (() => {\n",
              "      let quickchartButtonEl =\n",
              "        document.querySelector('#df-659b13e8-fe31-499a-983c-b2b3bf5c9a28 button');\n",
              "      quickchartButtonEl.style.display =\n",
              "        google.colab.kernel.accessAllowed ? 'block' : 'none';\n",
              "    })();\n",
              "  </script>\n",
              "</div>\n",
              "\n",
              "    </div>\n",
              "  </div>\n"
            ],
            "application/vnd.google.colaboratory.intrinsic+json": {
              "type": "dataframe",
              "summary": "{\n  \"name\": \"df\",\n  \"rows\": 8,\n  \"fields\": [\n    {\n      \"column\": \"Rating\",\n      \"properties\": {\n        \"dtype\": \"number\",\n        \"std\": 236.52441337187477,\n        \"min\": 0.0,\n        \"max\": 672.0,\n        \"num_unique_values\": 8,\n        \"samples\": [\n          3.5930059523809526,\n          3.8,\n          672.0\n        ],\n        \"semantic_type\": \"\",\n        \"description\": \"\"\n      }\n    },\n    {\n      \"column\": \"Founded\",\n      \"properties\": {\n        \"dtype\": \"number\",\n        \"std\": 786.7987135686087,\n        \"min\": -1.0,\n        \"max\": 2019.0,\n        \"num_unique_values\": 8,\n        \"samples\": [\n          1635.529761904762,\n          1995.0,\n          672.0\n        ],\n        \"semantic_type\": \"\",\n        \"description\": \"\"\n      }\n    }\n  ]\n}"
            }
          },
          "metadata": {},
          "execution_count": 30
        }
      ]
    },
    {
      "cell_type": "code",
      "source": [
        "df.drop('index', axis=1, inplace=True)"
      ],
      "metadata": {
        "id": "jcfzMLawpxLK"
      },
      "execution_count": 26,
      "outputs": []
    },
    {
      "cell_type": "code",
      "source": [
        "df['Rating'] = df['Rating'].replace(-1, 0)"
      ],
      "metadata": {
        "id": "xCuMgBxzqBR1"
      },
      "execution_count": 28,
      "outputs": []
    },
    {
      "cell_type": "code",
      "source": [
        "# Remove unwanted characters from text columns\n",
        "df['Job Description'] = df['Job Description'].apply(lambda x: re.sub(r'\\s+', ' ', re.sub(r'<.*?>', '', str(x)))).str.strip()"
      ],
      "metadata": {
        "id": "L7q9UfrQUP3d"
      },
      "execution_count": 6,
      "outputs": []
    },
    {
      "cell_type": "code",
      "source": [
        "skills = ['Python', 'SQL', 'R', 'AWS', 'Excel', 'Tableau', 'C++', 'Spark']\n",
        "for skill in skills:\n",
        "    df[skill] = df['Job Description'].apply(lambda x: 1 if skill.lower() in x.lower() else 0)"
      ],
      "metadata": {
        "id": "c8p1MKRsq2xy"
      },
      "execution_count": 31,
      "outputs": []
    },
    {
      "cell_type": "code",
      "source": [
        "df['Job Description'][0]"
      ],
      "metadata": {
        "id": "BFuyVHahpL0Z"
      },
      "execution_count": null,
      "outputs": []
    },
    {
      "cell_type": "code",
      "source": [
        "df['Size'].unique()"
      ],
      "metadata": {
        "colab": {
          "base_uri": "https://localhost:8080/"
        },
        "id": "ldt05QbPrUfv",
        "outputId": "bf899d71-433b-4fad-d2ba-98355a991b14"
      },
      "execution_count": 33,
      "outputs": [
        {
          "output_type": "execute_result",
          "data": {
            "text/plain": [
              "array(['1001 to 5000 employees', '5001 to 10000 employees',\n",
              "       '501 to 1000 employees', '51 to 200 employees', '10000+ employees',\n",
              "       '201 to 500 employees', '1 to 50 employees', '-1', 'Unknown'],\n",
              "      dtype=object)"
            ]
          },
          "metadata": {},
          "execution_count": 33
        }
      ]
    },
    {
      "cell_type": "code",
      "source": [
        "df['Size'] = df['Size'].replace(-1, 'Unknown')"
      ],
      "metadata": {
        "id": "ErQwAEGArfNZ"
      },
      "execution_count": 34,
      "outputs": []
    },
    {
      "cell_type": "code",
      "source": [
        "df['Founded'] = df['Founded'].replace(-1, '2024')"
      ],
      "metadata": {
        "id": "uw80H3tWroqH"
      },
      "execution_count": 35,
      "outputs": []
    },
    {
      "cell_type": "code",
      "source": [
        "df['Industry'] = df['Industry'].replace(-1, 'Not classified')"
      ],
      "metadata": {
        "id": "gsuMqGnAtCOT"
      },
      "execution_count": 36,
      "outputs": []
    },
    {
      "cell_type": "code",
      "source": [
        "df['Revenue'] = df['Revenue'].replace(-1, 'Unknown')"
      ],
      "metadata": {
        "id": "ZFCAjZh-tDpv"
      },
      "execution_count": 37,
      "outputs": []
    },
    {
      "cell_type": "code",
      "source": [
        "df.head(5)"
      ],
      "metadata": {
        "colab": {
          "base_uri": "https://localhost:8080/",
          "height": 542
        },
        "id": "iicBxNA9U6ml",
        "outputId": "dc794449-7f24-4a39-d224-439fc76289be"
      },
      "execution_count": 32,
      "outputs": [
        {
          "output_type": "execute_result",
          "data": {
            "text/plain": [
              "           Job Title               Salary Estimate  \\\n",
              "0  Sr Data Scientist  $137K-$171K (Glassdoor est.)   \n",
              "1     Data Scientist  $137K-$171K (Glassdoor est.)   \n",
              "2     Data Scientist  $137K-$171K (Glassdoor est.)   \n",
              "3     Data Scientist  $137K-$171K (Glassdoor est.)   \n",
              "4     Data Scientist  $137K-$171K (Glassdoor est.)   \n",
              "\n",
              "                                     Job Description  Rating  \\\n",
              "0  Description The Senior Data Scientist is respo...     3.1   \n",
              "1  Secure our Nation, Ignite your Future Join the...     4.2   \n",
              "2  Overview Analysis Group is one of the largest ...     3.8   \n",
              "3  JOB DESCRIPTION: Do you have a passion for Dat...     3.5   \n",
              "4  Data Scientist Affinity Solutions / Marketing ...     2.9   \n",
              "\n",
              "          Company Name       Location            Headquarters  \\\n",
              "0         Healthfirst.   New York, NY            New York, NY   \n",
              "1             ManTech.  Chantilly, VA             Herndon, VA   \n",
              "2      Analysis Group.     Boston, MA              Boston, MA   \n",
              "3             INFICON.     Newton, MA  Bad Ragaz, Switzerland   \n",
              "4  Affinity Solutions.   New York, NY            New York, NY   \n",
              "\n",
              "                      Size  Founded        Type of ownership  ... Remote  \\\n",
              "0   1001 to 5000 employees     1993   Nonprofit Organization  ...     No   \n",
              "1  5001 to 10000 employees     1968         Company - Public  ...     No   \n",
              "2   1001 to 5000 employees     1981  Private Practice / Firm  ...     No   \n",
              "3    501 to 1000 employees     2000         Company - Public  ...     No   \n",
              "4      51 to 200 employees     1998        Company - Private  ...     No   \n",
              "\n",
              "  Job Type Python SQL  R AWS Excel Tableau  C++  Spark  \n",
              "0  Unknown      0   0  1   1     0       0    0      0  \n",
              "1  Unknown      0   1  1   0     0       0    0      0  \n",
              "2  Unknown      1   0  1   1     1       0    1      0  \n",
              "3  Unknown      1   1  1   1     1       0    0      0  \n",
              "4  Unknown      1   1  1   0     1       0    0      0  \n",
              "\n",
              "[5 rows x 26 columns]"
            ],
            "text/html": [
              "\n",
              "  <div id=\"df-a3716410-efd3-4b4e-be64-046924cd950d\" class=\"colab-df-container\">\n",
              "    <div>\n",
              "<style scoped>\n",
              "    .dataframe tbody tr th:only-of-type {\n",
              "        vertical-align: middle;\n",
              "    }\n",
              "\n",
              "    .dataframe tbody tr th {\n",
              "        vertical-align: top;\n",
              "    }\n",
              "\n",
              "    .dataframe thead th {\n",
              "        text-align: right;\n",
              "    }\n",
              "</style>\n",
              "<table border=\"1\" class=\"dataframe\">\n",
              "  <thead>\n",
              "    <tr style=\"text-align: right;\">\n",
              "      <th></th>\n",
              "      <th>Job Title</th>\n",
              "      <th>Salary Estimate</th>\n",
              "      <th>Job Description</th>\n",
              "      <th>Rating</th>\n",
              "      <th>Company Name</th>\n",
              "      <th>Location</th>\n",
              "      <th>Headquarters</th>\n",
              "      <th>Size</th>\n",
              "      <th>Founded</th>\n",
              "      <th>Type of ownership</th>\n",
              "      <th>...</th>\n",
              "      <th>Remote</th>\n",
              "      <th>Job Type</th>\n",
              "      <th>Python</th>\n",
              "      <th>SQL</th>\n",
              "      <th>R</th>\n",
              "      <th>AWS</th>\n",
              "      <th>Excel</th>\n",
              "      <th>Tableau</th>\n",
              "      <th>C++</th>\n",
              "      <th>Spark</th>\n",
              "    </tr>\n",
              "  </thead>\n",
              "  <tbody>\n",
              "    <tr>\n",
              "      <th>0</th>\n",
              "      <td>Sr Data Scientist</td>\n",
              "      <td>$137K-$171K (Glassdoor est.)</td>\n",
              "      <td>Description The Senior Data Scientist is respo...</td>\n",
              "      <td>3.1</td>\n",
              "      <td>Healthfirst.</td>\n",
              "      <td>New York, NY</td>\n",
              "      <td>New York, NY</td>\n",
              "      <td>1001 to 5000 employees</td>\n",
              "      <td>1993</td>\n",
              "      <td>Nonprofit Organization</td>\n",
              "      <td>...</td>\n",
              "      <td>No</td>\n",
              "      <td>Unknown</td>\n",
              "      <td>0</td>\n",
              "      <td>0</td>\n",
              "      <td>1</td>\n",
              "      <td>1</td>\n",
              "      <td>0</td>\n",
              "      <td>0</td>\n",
              "      <td>0</td>\n",
              "      <td>0</td>\n",
              "    </tr>\n",
              "    <tr>\n",
              "      <th>1</th>\n",
              "      <td>Data Scientist</td>\n",
              "      <td>$137K-$171K (Glassdoor est.)</td>\n",
              "      <td>Secure our Nation, Ignite your Future Join the...</td>\n",
              "      <td>4.2</td>\n",
              "      <td>ManTech.</td>\n",
              "      <td>Chantilly, VA</td>\n",
              "      <td>Herndon, VA</td>\n",
              "      <td>5001 to 10000 employees</td>\n",
              "      <td>1968</td>\n",
              "      <td>Company - Public</td>\n",
              "      <td>...</td>\n",
              "      <td>No</td>\n",
              "      <td>Unknown</td>\n",
              "      <td>0</td>\n",
              "      <td>1</td>\n",
              "      <td>1</td>\n",
              "      <td>0</td>\n",
              "      <td>0</td>\n",
              "      <td>0</td>\n",
              "      <td>0</td>\n",
              "      <td>0</td>\n",
              "    </tr>\n",
              "    <tr>\n",
              "      <th>2</th>\n",
              "      <td>Data Scientist</td>\n",
              "      <td>$137K-$171K (Glassdoor est.)</td>\n",
              "      <td>Overview Analysis Group is one of the largest ...</td>\n",
              "      <td>3.8</td>\n",
              "      <td>Analysis Group.</td>\n",
              "      <td>Boston, MA</td>\n",
              "      <td>Boston, MA</td>\n",
              "      <td>1001 to 5000 employees</td>\n",
              "      <td>1981</td>\n",
              "      <td>Private Practice / Firm</td>\n",
              "      <td>...</td>\n",
              "      <td>No</td>\n",
              "      <td>Unknown</td>\n",
              "      <td>1</td>\n",
              "      <td>0</td>\n",
              "      <td>1</td>\n",
              "      <td>1</td>\n",
              "      <td>1</td>\n",
              "      <td>0</td>\n",
              "      <td>1</td>\n",
              "      <td>0</td>\n",
              "    </tr>\n",
              "    <tr>\n",
              "      <th>3</th>\n",
              "      <td>Data Scientist</td>\n",
              "      <td>$137K-$171K (Glassdoor est.)</td>\n",
              "      <td>JOB DESCRIPTION: Do you have a passion for Dat...</td>\n",
              "      <td>3.5</td>\n",
              "      <td>INFICON.</td>\n",
              "      <td>Newton, MA</td>\n",
              "      <td>Bad Ragaz, Switzerland</td>\n",
              "      <td>501 to 1000 employees</td>\n",
              "      <td>2000</td>\n",
              "      <td>Company - Public</td>\n",
              "      <td>...</td>\n",
              "      <td>No</td>\n",
              "      <td>Unknown</td>\n",
              "      <td>1</td>\n",
              "      <td>1</td>\n",
              "      <td>1</td>\n",
              "      <td>1</td>\n",
              "      <td>1</td>\n",
              "      <td>0</td>\n",
              "      <td>0</td>\n",
              "      <td>0</td>\n",
              "    </tr>\n",
              "    <tr>\n",
              "      <th>4</th>\n",
              "      <td>Data Scientist</td>\n",
              "      <td>$137K-$171K (Glassdoor est.)</td>\n",
              "      <td>Data Scientist Affinity Solutions / Marketing ...</td>\n",
              "      <td>2.9</td>\n",
              "      <td>Affinity Solutions.</td>\n",
              "      <td>New York, NY</td>\n",
              "      <td>New York, NY</td>\n",
              "      <td>51 to 200 employees</td>\n",
              "      <td>1998</td>\n",
              "      <td>Company - Private</td>\n",
              "      <td>...</td>\n",
              "      <td>No</td>\n",
              "      <td>Unknown</td>\n",
              "      <td>1</td>\n",
              "      <td>1</td>\n",
              "      <td>1</td>\n",
              "      <td>0</td>\n",
              "      <td>1</td>\n",
              "      <td>0</td>\n",
              "      <td>0</td>\n",
              "      <td>0</td>\n",
              "    </tr>\n",
              "  </tbody>\n",
              "</table>\n",
              "<p>5 rows × 26 columns</p>\n",
              "</div>\n",
              "    <div class=\"colab-df-buttons\">\n",
              "\n",
              "  <div class=\"colab-df-container\">\n",
              "    <button class=\"colab-df-convert\" onclick=\"convertToInteractive('df-a3716410-efd3-4b4e-be64-046924cd950d')\"\n",
              "            title=\"Convert this dataframe to an interactive table.\"\n",
              "            style=\"display:none;\">\n",
              "\n",
              "  <svg xmlns=\"http://www.w3.org/2000/svg\" height=\"24px\" viewBox=\"0 -960 960 960\">\n",
              "    <path d=\"M120-120v-720h720v720H120Zm60-500h600v-160H180v160Zm220 220h160v-160H400v160Zm0 220h160v-160H400v160ZM180-400h160v-160H180v160Zm440 0h160v-160H620v160ZM180-180h160v-160H180v160Zm440 0h160v-160H620v160Z\"/>\n",
              "  </svg>\n",
              "    </button>\n",
              "\n",
              "  <style>\n",
              "    .colab-df-container {\n",
              "      display:flex;\n",
              "      gap: 12px;\n",
              "    }\n",
              "\n",
              "    .colab-df-convert {\n",
              "      background-color: #E8F0FE;\n",
              "      border: none;\n",
              "      border-radius: 50%;\n",
              "      cursor: pointer;\n",
              "      display: none;\n",
              "      fill: #1967D2;\n",
              "      height: 32px;\n",
              "      padding: 0 0 0 0;\n",
              "      width: 32px;\n",
              "    }\n",
              "\n",
              "    .colab-df-convert:hover {\n",
              "      background-color: #E2EBFA;\n",
              "      box-shadow: 0px 1px 2px rgba(60, 64, 67, 0.3), 0px 1px 3px 1px rgba(60, 64, 67, 0.15);\n",
              "      fill: #174EA6;\n",
              "    }\n",
              "\n",
              "    .colab-df-buttons div {\n",
              "      margin-bottom: 4px;\n",
              "    }\n",
              "\n",
              "    [theme=dark] .colab-df-convert {\n",
              "      background-color: #3B4455;\n",
              "      fill: #D2E3FC;\n",
              "    }\n",
              "\n",
              "    [theme=dark] .colab-df-convert:hover {\n",
              "      background-color: #434B5C;\n",
              "      box-shadow: 0px 1px 3px 1px rgba(0, 0, 0, 0.15);\n",
              "      filter: drop-shadow(0px 1px 2px rgba(0, 0, 0, 0.3));\n",
              "      fill: #FFFFFF;\n",
              "    }\n",
              "  </style>\n",
              "\n",
              "    <script>\n",
              "      const buttonEl =\n",
              "        document.querySelector('#df-a3716410-efd3-4b4e-be64-046924cd950d button.colab-df-convert');\n",
              "      buttonEl.style.display =\n",
              "        google.colab.kernel.accessAllowed ? 'block' : 'none';\n",
              "\n",
              "      async function convertToInteractive(key) {\n",
              "        const element = document.querySelector('#df-a3716410-efd3-4b4e-be64-046924cd950d');\n",
              "        const dataTable =\n",
              "          await google.colab.kernel.invokeFunction('convertToInteractive',\n",
              "                                                    [key], {});\n",
              "        if (!dataTable) return;\n",
              "\n",
              "        const docLinkHtml = 'Like what you see? Visit the ' +\n",
              "          '<a target=\"_blank\" href=https://colab.research.google.com/notebooks/data_table.ipynb>data table notebook</a>'\n",
              "          + ' to learn more about interactive tables.';\n",
              "        element.innerHTML = '';\n",
              "        dataTable['output_type'] = 'display_data';\n",
              "        await google.colab.output.renderOutput(dataTable, element);\n",
              "        const docLink = document.createElement('div');\n",
              "        docLink.innerHTML = docLinkHtml;\n",
              "        element.appendChild(docLink);\n",
              "      }\n",
              "    </script>\n",
              "  </div>\n",
              "\n",
              "\n",
              "<div id=\"df-803b93b7-9ef5-4b64-9145-019d8877f0fe\">\n",
              "  <button class=\"colab-df-quickchart\" onclick=\"quickchart('df-803b93b7-9ef5-4b64-9145-019d8877f0fe')\"\n",
              "            title=\"Suggest charts\"\n",
              "            style=\"display:none;\">\n",
              "\n",
              "<svg xmlns=\"http://www.w3.org/2000/svg\" height=\"24px\"viewBox=\"0 0 24 24\"\n",
              "     width=\"24px\">\n",
              "    <g>\n",
              "        <path d=\"M19 3H5c-1.1 0-2 .9-2 2v14c0 1.1.9 2 2 2h14c1.1 0 2-.9 2-2V5c0-1.1-.9-2-2-2zM9 17H7v-7h2v7zm4 0h-2V7h2v10zm4 0h-2v-4h2v4z\"/>\n",
              "    </g>\n",
              "</svg>\n",
              "  </button>\n",
              "\n",
              "<style>\n",
              "  .colab-df-quickchart {\n",
              "      --bg-color: #E8F0FE;\n",
              "      --fill-color: #1967D2;\n",
              "      --hover-bg-color: #E2EBFA;\n",
              "      --hover-fill-color: #174EA6;\n",
              "      --disabled-fill-color: #AAA;\n",
              "      --disabled-bg-color: #DDD;\n",
              "  }\n",
              "\n",
              "  [theme=dark] .colab-df-quickchart {\n",
              "      --bg-color: #3B4455;\n",
              "      --fill-color: #D2E3FC;\n",
              "      --hover-bg-color: #434B5C;\n",
              "      --hover-fill-color: #FFFFFF;\n",
              "      --disabled-bg-color: #3B4455;\n",
              "      --disabled-fill-color: #666;\n",
              "  }\n",
              "\n",
              "  .colab-df-quickchart {\n",
              "    background-color: var(--bg-color);\n",
              "    border: none;\n",
              "    border-radius: 50%;\n",
              "    cursor: pointer;\n",
              "    display: none;\n",
              "    fill: var(--fill-color);\n",
              "    height: 32px;\n",
              "    padding: 0;\n",
              "    width: 32px;\n",
              "  }\n",
              "\n",
              "  .colab-df-quickchart:hover {\n",
              "    background-color: var(--hover-bg-color);\n",
              "    box-shadow: 0 1px 2px rgba(60, 64, 67, 0.3), 0 1px 3px 1px rgba(60, 64, 67, 0.15);\n",
              "    fill: var(--button-hover-fill-color);\n",
              "  }\n",
              "\n",
              "  .colab-df-quickchart-complete:disabled,\n",
              "  .colab-df-quickchart-complete:disabled:hover {\n",
              "    background-color: var(--disabled-bg-color);\n",
              "    fill: var(--disabled-fill-color);\n",
              "    box-shadow: none;\n",
              "  }\n",
              "\n",
              "  .colab-df-spinner {\n",
              "    border: 2px solid var(--fill-color);\n",
              "    border-color: transparent;\n",
              "    border-bottom-color: var(--fill-color);\n",
              "    animation:\n",
              "      spin 1s steps(1) infinite;\n",
              "  }\n",
              "\n",
              "  @keyframes spin {\n",
              "    0% {\n",
              "      border-color: transparent;\n",
              "      border-bottom-color: var(--fill-color);\n",
              "      border-left-color: var(--fill-color);\n",
              "    }\n",
              "    20% {\n",
              "      border-color: transparent;\n",
              "      border-left-color: var(--fill-color);\n",
              "      border-top-color: var(--fill-color);\n",
              "    }\n",
              "    30% {\n",
              "      border-color: transparent;\n",
              "      border-left-color: var(--fill-color);\n",
              "      border-top-color: var(--fill-color);\n",
              "      border-right-color: var(--fill-color);\n",
              "    }\n",
              "    40% {\n",
              "      border-color: transparent;\n",
              "      border-right-color: var(--fill-color);\n",
              "      border-top-color: var(--fill-color);\n",
              "    }\n",
              "    60% {\n",
              "      border-color: transparent;\n",
              "      border-right-color: var(--fill-color);\n",
              "    }\n",
              "    80% {\n",
              "      border-color: transparent;\n",
              "      border-right-color: var(--fill-color);\n",
              "      border-bottom-color: var(--fill-color);\n",
              "    }\n",
              "    90% {\n",
              "      border-color: transparent;\n",
              "      border-bottom-color: var(--fill-color);\n",
              "    }\n",
              "  }\n",
              "</style>\n",
              "\n",
              "  <script>\n",
              "    async function quickchart(key) {\n",
              "      const quickchartButtonEl =\n",
              "        document.querySelector('#' + key + ' button');\n",
              "      quickchartButtonEl.disabled = true;  // To prevent multiple clicks.\n",
              "      quickchartButtonEl.classList.add('colab-df-spinner');\n",
              "      try {\n",
              "        const charts = await google.colab.kernel.invokeFunction(\n",
              "            'suggestCharts', [key], {});\n",
              "      } catch (error) {\n",
              "        console.error('Error during call to suggestCharts:', error);\n",
              "      }\n",
              "      quickchartButtonEl.classList.remove('colab-df-spinner');\n",
              "      quickchartButtonEl.classList.add('colab-df-quickchart-complete');\n",
              "    }\n",
              "    (() => {\n",
              "      let quickchartButtonEl =\n",
              "        document.querySelector('#df-803b93b7-9ef5-4b64-9145-019d8877f0fe button');\n",
              "      quickchartButtonEl.style.display =\n",
              "        google.colab.kernel.accessAllowed ? 'block' : 'none';\n",
              "    })();\n",
              "  </script>\n",
              "</div>\n",
              "\n",
              "    </div>\n",
              "  </div>\n"
            ],
            "application/vnd.google.colaboratory.intrinsic+json": {
              "type": "dataframe",
              "variable_name": "df"
            }
          },
          "metadata": {},
          "execution_count": 32
        }
      ]
    },
    {
      "cell_type": "code",
      "source": [
        "# Remove numbers from company_name\n",
        "df['Company Name'] = df['Company Name'].apply(lambda x: re.sub(r'\\d+', '', str(x))).str.strip()\n"
      ],
      "metadata": {
        "id": "dOw0JnFYVWh-"
      },
      "execution_count": 7,
      "outputs": []
    },
    {
      "cell_type": "code",
      "source": [
        "# Remove newline characters from company_name\n",
        "df['Company Name'] = df['Company Name'].apply(lambda x: x.replace('\\n', '').strip())\n"
      ],
      "metadata": {
        "id": "5QvVRPlkVriz"
      },
      "execution_count": 8,
      "outputs": []
    },
    {
      "cell_type": "code",
      "source": [
        "# Function to extract city and state from location\n",
        "def extract_city_state(location):\n",
        "    if 'Remote' in location:  # Check if the location is \"Remote\"\n",
        "        return pd.Series([None, None])\n",
        "    else:\n",
        "        parts = location.split(',')\n",
        "        if len(parts) == 1:  # Only state is provided\n",
        "            return pd.Series([None, parts[0].strip()])\n",
        "        elif len(parts) == 2:  # Both city and state are provided\n",
        "            return pd.Series([parts[0].strip(), parts[1].strip()])\n",
        "        else:  # Any other unexpected format (should not happen in your case)\n",
        "            return pd.Series([None, None])"
      ],
      "metadata": {
        "id": "RQE4H-kpZTy8"
      },
      "execution_count": 9,
      "outputs": []
    },
    {
      "cell_type": "code",
      "source": [
        "# Apply the function to the location column\n",
        "df[['City', 'State']] = df['Location'].apply(extract_city_state)\n"
      ],
      "metadata": {
        "id": "QWZM3y6aV1Xa"
      },
      "execution_count": 10,
      "outputs": []
    },
    {
      "cell_type": "code",
      "source": [
        "#Add a column to indicate if the job is remote\n",
        "df['Remote'] = df['Location'].apply(lambda x: 'Yes' if 'Remote' in x else 'No')"
      ],
      "metadata": {
        "id": "zvB532INbwJ3"
      },
      "execution_count": 11,
      "outputs": []
    },
    {
      "cell_type": "code",
      "source": [
        "df['Competitors'] = df['Competitors'].replace(\"-1\", np.nan)"
      ],
      "metadata": {
        "id": "zF4ronsidEse"
      },
      "execution_count": 12,
      "outputs": []
    },
    {
      "cell_type": "code",
      "source": [
        "# Identify job type based on description\n",
        "df['Job Type'] = df['Job Description'].apply(lambda x: 'Full-time' if 'full-time' in x.lower() else\n",
        "                                                      'Part-time' if 'part-time' in x.lower() else\n",
        "                                                       'Unknown')"
      ],
      "metadata": {
        "id": "95yIIlN8d-k6"
      },
      "execution_count": 13,
      "outputs": []
    },
    {
      "cell_type": "code",
      "source": [],
      "metadata": {
        "id": "-piZRvvTei2t"
      },
      "execution_count": null,
      "outputs": []
    },
    {
      "cell_type": "markdown",
      "source": [
        "# EDA"
      ],
      "metadata": {
        "id": "BMm-5qRvi-z1"
      }
    },
    {
      "cell_type": "code",
      "source": [
        "top_10_job_titiles = df['Job Title'].value_counts().head(10)\n",
        "print(top_10_job_titiles)"
      ],
      "metadata": {
        "colab": {
          "base_uri": "https://localhost:8080/"
        },
        "id": "LUAYLl81jBww",
        "outputId": "1eac4a84-e569-4837-8871-9f53a0bfecc1"
      },
      "execution_count": 15,
      "outputs": [
        {
          "output_type": "stream",
          "name": "stdout",
          "text": [
            "Job Title\n",
            "Data Scientist                                                                                      337\n",
            "Data Engineer                                                                                        26\n",
            "Senior Data Scientist                                                                                19\n",
            "Machine Learning Engineer                                                                            16\n",
            "Data Analyst                                                                                         12\n",
            "Senior Data Analyst                                                                                   6\n",
            "Senior Data Engineer                                                                                  5\n",
            "Data Science Software Engineer                                                                        4\n",
            "ENGINEER - COMPUTER SCIENTIST - RESEARCH COMPUTER SCIENTIST - SIGNAL PROCESSING - SAN ANTONIO OR      4\n",
            "Data Scientist - TS/SCI FSP or CI Required                                                            4\n",
            "Name: count, dtype: int64\n"
          ]
        }
      ]
    },
    {
      "cell_type": "code",
      "source": [
        "from sklearn.feature_extraction.text import CountVectorizer\n",
        "#Filter the Data for \"Data Scientist\" job titles\n",
        "data_scientist_jobs = df[df['Job Title'].str.lower() == 'data scientist']"
      ],
      "metadata": {
        "id": "PhhjVVtCjdG0"
      },
      "execution_count": 16,
      "outputs": []
    },
    {
      "cell_type": "code",
      "source": [
        "# Step 2: Tokenize and remove stopwords from job descriptions\n",
        "vectorizer = CountVectorizer(stop_words='english')"
      ],
      "metadata": {
        "id": "b2mRapwClGdn"
      },
      "execution_count": 17,
      "outputs": []
    },
    {
      "cell_type": "code",
      "source": [
        "# Fit and transform the job descriptions for Data Scientist roles\n",
        "X = vectorizer.fit_transform(data_scientist_jobs['Job Description'])"
      ],
      "metadata": {
        "id": "vSPJbif6lJnQ"
      },
      "execution_count": 18,
      "outputs": []
    },
    {
      "cell_type": "code",
      "source": [
        "# Create a DataFrame of word counts\n",
        "word_counts = pd.DataFrame(X.toarray(), columns=vectorizer.get_feature_names_out())\n"
      ],
      "metadata": {
        "id": "R15Fwf5ClNc0"
      },
      "execution_count": 19,
      "outputs": []
    },
    {
      "cell_type": "code",
      "source": [
        "# Step 3: Sum up the word counts and find the most common skill\n",
        "most_common_skills = word_counts.sum().sort_values(ascending=False)\n"
      ],
      "metadata": {
        "id": "lw2UktqDlPIX"
      },
      "execution_count": 20,
      "outputs": []
    },
    {
      "cell_type": "code",
      "source": [
        "# Print the top skill\n",
        "print(most_common_skills.head(30))"
      ],
      "metadata": {
        "colab": {
          "base_uri": "https://localhost:8080/"
        },
        "id": "P6g7CxuglSUx",
        "outputId": "26a75bda-f005-4018-a326-d978f15d95bd"
      },
      "execution_count": 23,
      "outputs": [
        {
          "output_type": "stream",
          "name": "stdout",
          "text": [
            "data           3776\n",
            "experience     1632\n",
            "learning        756\n",
            "science         756\n",
            "work            694\n",
            "business        662\n",
            "machine         607\n",
            "analysis        573\n",
            "team            547\n",
            "skills          524\n",
            "scientist       480\n",
            "models          447\n",
            "analytics       437\n",
            "ability         430\n",
            "years           421\n",
            "using           411\n",
            "solutions       393\n",
            "statistical     381\n",
            "tools           377\n",
            "engineering     367\n",
            "company         360\n",
            "python          352\n",
            "systems         337\n",
            "job             337\n",
            "information     334\n",
            "development     333\n",
            "working         331\n",
            "knowledge       323\n",
            "technical       320\n",
            "techniques      312\n",
            "dtype: int64\n"
          ]
        }
      ]
    }
  ]
}